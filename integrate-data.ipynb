{
 "cells": [
  {
   "cell_type": "code",
   "execution_count": 4,
   "metadata": {},
   "outputs": [],
   "source": [
    "import pandas\n",
    "import psycopg2\n"
   ]
  },
  {
   "cell_type": "code",
   "execution_count": 10,
   "metadata": {},
   "outputs": [],
   "source": [
    "connection = psycopg2.connect(host='localhost', dbname=\"rxdb\", user='postgres', port=65500)\n"
   ]
  },
  {
   "cell_type": "code",
   "execution_count": 34,
   "metadata": {},
   "outputs": [],
   "source": [
    "# query = '''\n",
    "# select * FROM prod.article_publications LIMIT 10;\n",
    "# '''\n",
    "# pandas.read_sql(sql=query, con=connection)"
   ]
  },
  {
   "cell_type": "code",
   "execution_count": 35,
   "metadata": {},
   "outputs": [],
   "source": [
    "# query = '''\n",
    "# select * FROM prod.articles;\n",
    "# '''\n",
    "# preprint_df = pandas.read_sql(sql=query, con=connection)"
   ]
  },
  {
   "cell_type": "code",
   "execution_count": 36,
   "metadata": {},
   "outputs": [],
   "source": [
    "# preprint_df.query('doi == \"10.1101/087619\"')"
   ]
  },
  {
   "cell_type": "code",
   "execution_count": 37,
   "metadata": {},
   "outputs": [],
   "source": [
    "# query = '''\n",
    "# select id, doi as preprint_doi, posted FROM prod.articles;\n",
    "# '''\n",
    "# preprint_df = pandas.read_sql(sql=query, con=connection)\n",
    "# preprint_df.head()"
   ]
  },
  {
   "cell_type": "code",
   "execution_count": 46,
   "metadata": {},
   "outputs": [
    {
     "data": {
      "text/html": [
       "<div>\n",
       "<style scoped>\n",
       "    .dataframe tbody tr th:only-of-type {\n",
       "        vertical-align: middle;\n",
       "    }\n",
       "\n",
       "    .dataframe tbody tr th {\n",
       "        vertical-align: top;\n",
       "    }\n",
       "\n",
       "    .dataframe thead th {\n",
       "        text-align: right;\n",
       "    }\n",
       "</style>\n",
       "<table border=\"1\" class=\"dataframe\">\n",
       "  <thead>\n",
       "    <tr style=\"text-align: right;\">\n",
       "      <th></th>\n",
       "      <th>rxivist_preprint_id</th>\n",
       "      <th>preprint_doi</th>\n",
       "      <th>preprint_date</th>\n",
       "      <th>journal_doi</th>\n",
       "      <th>journal_date</th>\n",
       "    </tr>\n",
       "  </thead>\n",
       "  <tbody>\n",
       "    <tr>\n",
       "      <th>0</th>\n",
       "      <td>28998</td>\n",
       "      <td>10.1101/081075</td>\n",
       "      <td>2016-10-14</td>\n",
       "      <td>10.1021/acssynbio.6b00304</td>\n",
       "      <td>2017-01-24</td>\n",
       "    </tr>\n",
       "    <tr>\n",
       "      <th>1</th>\n",
       "      <td>3652</td>\n",
       "      <td>10.1101/215210</td>\n",
       "      <td>2017-11-06</td>\n",
       "      <td>10.1038/s41598-018-27292-6</td>\n",
       "      <td>2018-06-12</td>\n",
       "    </tr>\n",
       "    <tr>\n",
       "      <th>2</th>\n",
       "      <td>7159</td>\n",
       "      <td>10.1101/115550</td>\n",
       "      <td>2017-03-12</td>\n",
       "      <td>10.1186/s12859-018-2135-0</td>\n",
       "      <td>2018-04-04</td>\n",
       "    </tr>\n",
       "    <tr>\n",
       "      <th>3</th>\n",
       "      <td>3597</td>\n",
       "      <td>10.1101/225623</td>\n",
       "      <td>2017-11-27</td>\n",
       "      <td>10.1111/1755-0998.12921</td>\n",
       "      <td>2018-07-20</td>\n",
       "    </tr>\n",
       "    <tr>\n",
       "      <th>4</th>\n",
       "      <td>6490</td>\n",
       "      <td>10.1101/092882</td>\n",
       "      <td>2016-12-09</td>\n",
       "      <td>10.1038/s41467-017-01628-8</td>\n",
       "      <td>2017-11-08</td>\n",
       "    </tr>\n",
       "  </tbody>\n",
       "</table>\n",
       "</div>"
      ],
      "text/plain": [
       "   rxivist_preprint_id    preprint_doi preprint_date  \\\n",
       "0                28998  10.1101/081075    2016-10-14   \n",
       "1                 3652  10.1101/215210    2017-11-06   \n",
       "2                 7159  10.1101/115550    2017-03-12   \n",
       "3                 3597  10.1101/225623    2017-11-27   \n",
       "4                 6490  10.1101/092882    2016-12-09   \n",
       "\n",
       "                  journal_doi journal_date  \n",
       "0   10.1021/acssynbio.6b00304   2017-01-24  \n",
       "1  10.1038/s41598-018-27292-6   2018-06-12  \n",
       "2   10.1186/s12859-018-2135-0   2018-04-04  \n",
       "3     10.1111/1755-0998.12921   2018-07-20  \n",
       "4  10.1038/s41467-017-01628-8   2017-11-08  "
      ]
     },
     "execution_count": 46,
     "metadata": {},
     "output_type": "execute_result"
    }
   ],
   "source": [
    "query = '''\n",
    "select\n",
    "  id as rxivist_preprint_id,\n",
    "  prod.articles.doi as preprint_doi,\n",
    "  posted as preprint_date,\n",
    "  prod.article_publications.doi as journal_doi,\n",
    "  paper.publication_dates.date as journal_date\n",
    "FROM prod.articles\n",
    "join prod.article_publications\n",
    "  on prod.articles.id=prod.article_publications.article\n",
    "join paper.publication_dates\n",
    "  on prod.articles.id=paper.publication_dates.article;\n",
    "'''\n",
    "preprint_df = pandas.read_sql(sql=query, con=connection, parse_dates=['preprint_date', 'journal_date'])\n",
    "preprint_df.head()"
   ]
  },
  {
   "cell_type": "code",
   "execution_count": 47,
   "metadata": {},
   "outputs": [
    {
     "data": {
      "text/plain": [
       "15797"
      ]
     },
     "execution_count": 47,
     "metadata": {},
     "output_type": "execute_result"
    }
   ],
   "source": [
    "len(preprint_df)"
   ]
  },
  {
   "cell_type": "code",
   "execution_count": null,
   "metadata": {},
   "outputs": [],
   "source": []
  },
  {
   "cell_type": "code",
   "execution_count": 39,
   "metadata": {},
   "outputs": [
    {
     "data": {
      "text/html": [
       "<div>\n",
       "<style scoped>\n",
       "    .dataframe tbody tr th:only-of-type {\n",
       "        vertical-align: middle;\n",
       "    }\n",
       "\n",
       "    .dataframe tbody tr th {\n",
       "        vertical-align: top;\n",
       "    }\n",
       "\n",
       "    .dataframe thead th {\n",
       "        text-align: right;\n",
       "    }\n",
       "</style>\n",
       "<table border=\"1\" class=\"dataframe\">\n",
       "  <thead>\n",
       "    <tr style=\"text-align: right;\">\n",
       "      <th></th>\n",
       "      <th>rxivist_article_id</th>\n",
       "      <th>preprint_doi</th>\n",
       "      <th>preprint_date</th>\n",
       "      <th>journal_doi</th>\n",
       "    </tr>\n",
       "  </thead>\n",
       "  <tbody>\n",
       "    <tr>\n",
       "      <th>10831</th>\n",
       "      <td>3976</td>\n",
       "      <td>10.1101/087619</td>\n",
       "      <td>2016-11-14</td>\n",
       "      <td>10.7554/eLife.26726</td>\n",
       "    </tr>\n",
       "  </tbody>\n",
       "</table>\n",
       "</div>"
      ],
      "text/plain": [
       "       rxivist_article_id    preprint_doi preprint_date          journal_doi\n",
       "10831                3976  10.1101/087619    2016-11-14  10.7554/eLife.26726"
      ]
     },
     "execution_count": 39,
     "metadata": {},
     "output_type": "execute_result"
    }
   ],
   "source": [
    "preprint_df.query('preprint_doi == \"10.1101/087619\"')"
   ]
  },
  {
   "cell_type": "code",
   "execution_count": null,
   "metadata": {},
   "outputs": [],
   "source": []
  }
 ],
 "metadata": {
  "kernelspec": {
   "display_name": "Python [default]",
   "language": "python",
   "name": "python3"
  },
  "language_info": {
   "codemirror_mode": {
    "name": "ipython",
    "version": 3
   },
   "file_extension": ".py",
   "mimetype": "text/x-python",
   "name": "python",
   "nbconvert_exporter": "python",
   "pygments_lexer": "ipython3",
   "version": "3.6.8"
  }
 },
 "nbformat": 4,
 "nbformat_minor": 2
}
