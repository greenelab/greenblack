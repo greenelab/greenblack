{
 "cells": [
  {
   "cell_type": "markdown",
   "metadata": {},
   "source": [
    "# Process Sci-Hub download logs to count downloads per article per month\n",
    "\n",
    "More information regarding Sci-Hub's logs available at https://doi.org/10.7554/eLife.32822."
   ]
  },
  {
   "cell_type": "code",
   "execution_count": 1,
   "metadata": {},
   "outputs": [],
   "source": [
    "import collections\n",
    "import csv\n",
    "import itertools\n",
    "import pathlib\n",
    "import logging\n",
    "import lzma\n",
    "import urllib.request\n",
    "\n",
    "import pandas"
   ]
  },
  {
   "cell_type": "markdown",
   "metadata": {},
   "source": [
    "## Download Sci-Hub download logs"
   ]
  },
  {
   "cell_type": "code",
   "execution_count": 2,
   "metadata": {},
   "outputs": [],
   "source": [
    "# Ensure downloads/scihub exists\n",
    "scihub_directory = pathlib.Path('downloads/scihub')\n",
    "if not scihub_directory.is_dir():\n",
    "    scihub_directory.mkdir(exist_ok=True)"
   ]
  },
  {
   "cell_type": "code",
   "execution_count": 3,
   "metadata": {},
   "outputs": [],
   "source": [
    "# Download Sci-Hub 2017 logs\n",
    "urls = [\n",
    "    'https://github.com/greenelab/scihub/raw/9280e4479fbe32a48d7c0f836b9292b0e4a5319c/download/scihub-logs/scihub-logs_2015-09_2016-02.tsv.xz',\n",
    "    'https://github.com/greenelab/scihub/raw/9280e4479fbe32a48d7c0f836b9292b0e4a5319c/download/scihub-logs-2017/2017.statistics.tab.xz',\n",
    "    'https://github.com/greenelab/scihub/raw/9280e4479fbe32a48d7c0f836b9292b0e4a5319c/download/scihub-logs-2017/2017.statistics.1016.j.tab.xz',\n",
    "]\n",
    "log_paths = list()\n",
    "for url in urls:\n",
    "    path = scihub_directory / pathlib.Path(url).name\n",
    "    log_paths.append(path)\n",
    "    if not path.exists():\n",
    "        urllib.request.urlretrieve(url=url, filename=path)"
   ]
  },
  {
   "cell_type": "code",
   "execution_count": 4,
   "metadata": {},
   "outputs": [],
   "source": [
    "def get_2017_log_rows(path):\n",
    "    \"\"\"\n",
    "    Return a generator of rows as dicts in 2017.statistics.tab. Note that column names are not\n",
    "    part of the dataset and are thus inferred.\n",
    "\n",
    "    This function was derived from:\n",
    "    https://github.com/greenelab/scihub/blob/9280e4479fbe32a48d7c0f836b9292b0e4a5319c/download/scihub-logs-2017/01.summarize-combined-logs.ipynb\n",
    "    \"\"\"\n",
    "    columns = 'date', 'doi', 'IP_code', 'user_code', 'country', 'city', 'latitude', 'longitude'\n",
    "    with lzma.open(path, 'rt') as read_file:\n",
    "        rows = csv.DictReader(read_file, fieldnames=columns, delimiter='\\t')\n",
    "        for row in rows:\n",
    "            try:\n",
    "                for k, v in list(row.items()):\n",
    "                    if v == 'N/A':\n",
    "                        row[v] = None\n",
    "                row['doi'] = row['doi'].lower()\n",
    "                yield row\n",
    "            except Exception:\n",
    "                logging.warning(f'Could not process row:\\n{row}')\n",
    "                pass\n",
    "\n",
    "def get_2015_log_rows(path):\n",
    "    \"\"\"\n",
    "    Return a generator of rows as dicts in scihub-logs_2015-09_2016-02.tsv.xz.\n",
    "\n",
    "    This function was derived from:\n",
    "    https://github.com/greenelab/scihub/blob/9280e4479fbe32a48d7c0f836b9292b0e4a5319c/download/scihub-logs-2017/01.summarize-combined-logs.ipynb\n",
    "    \"\"\"\n",
    "    with lzma.open(path, 'rt') as read_file:\n",
    "        rows = csv.DictReader(read_file, delimiter='\\t')\n",
    "        for row in rows:\n",
    "            try:\n",
    "                for k, v in list(row.items()):\n",
    "                    if v == '':\n",
    "                        row[v] = None\n",
    "                row['doi'] = row['doi'].lower()\n",
    "                yield row\n",
    "            except Exception:\n",
    "                logging.warning(f'Could not process row:\\n{row}')\n",
    "                pass"
   ]
  },
  {
   "cell_type": "code",
   "execution_count": 5,
   "metadata": {},
   "outputs": [
    {
     "name": "stdout",
     "output_type": "stream",
     "text": [
      "Months in list: 18\n"
     ]
    }
   ],
   "source": [
    "def year_month_range(start, end):\n",
    "    \"\"\"\n",
    "    Generate YYYY-MM strings spanning the specified range.\n",
    "    Inclusive of start_month and end_month.\n",
    "    Based on https://stackoverflow.com/a/5734564/4651668\n",
    "    \"\"\"\n",
    "    start_year, start_month = map(int, start.split('-'))\n",
    "    end_year, end_month = map(int, end.split('-'))\n",
    "    ym_start = 12 * start_year + start_month - 1\n",
    "    ym_end = 12 * end_year + end_month\n",
    "    for ym in range(ym_start, ym_end):\n",
    "        y, m = divmod(ym, 12)\n",
    "        yield f'{y}-{m + 1:02d}'\n",
    "\n",
    "keep_year_months = list(year_month_range('2015-09', '2016-02')) + list(year_month_range('2017-01', '2017-12'))\n",
    "print('Months in list:', len(keep_year_months))"
   ]
  },
  {
   "cell_type": "markdown",
   "metadata": {},
   "source": [
    "## Count downloads on a per article/month basis"
   ]
  },
  {
   "cell_type": "code",
   "execution_count": 6,
   "metadata": {},
   "outputs": [
    {
     "name": "stdout",
     "output_type": "stream",
     "text": [
      "downloads/scihub/scihub-logs_2015-09_2016-02.tsv.xz\n",
      "downloads/scihub/2017.statistics.tab.xz\n",
      "downloads/scihub/2017.statistics.1016.j.tab.xz\n"
     ]
    }
   ],
   "source": [
    "for path in log_paths:\n",
    "    print(path)"
   ]
  },
  {
   "cell_type": "code",
   "execution_count": 7,
   "metadata": {},
   "outputs": [],
   "source": [
    "# Create generator of Sci-Hub log rows\n",
    "rows = itertools.chain(\n",
    "    get_2015_log_rows(log_paths[0]),\n",
    "    get_2017_log_rows(log_paths[1]),\n",
    "    get_2017_log_rows(log_paths[2]),\n",
    ")\n",
    "# Uncomment following line for development\n",
    "# rows = itertools.islice(rows, 10_000)\n",
    "\n",
    "# Create an object storing download counts per doi per month\n",
    "# Object structured like {doi: {year_month: count}}\n",
    "doi_to_downloads = dict()\n",
    "observed_year_months = set()\n",
    "for row in rows:\n",
    "    doi = row['doi']\n",
    "    if not doi.startswith('10.'):\n",
    "        continue\n",
    "    counter = doi_to_downloads.setdefault(doi, collections.Counter())\n",
    "    year_month = row['date'][:7]\n",
    "    observed_year_months.add(year_month)\n",
    "    counter[year_month] += 1"
   ]
  },
  {
   "cell_type": "code",
   "execution_count": 8,
   "metadata": {},
   "outputs": [
    {
     "data": {
      "text/plain": [
       "['2016-03']"
      ]
     },
     "execution_count": 8,
     "metadata": {},
     "output_type": "execute_result"
    }
   ],
   "source": [
    "# Show months that appeared in the logs but are not retained as per keep_year_months\n",
    "# Some months like 2016-03 have very few downloads were not intended to be part of the log releases\n",
    "discarded_months = set(observed_year_months) - set(keep_year_months)\n",
    "sorted(discarded_months)"
   ]
  },
  {
   "cell_type": "code",
   "execution_count": 9,
   "metadata": {},
   "outputs": [],
   "source": [
    "# # Create to a tidy dataset rather than a matrix\n",
    "# count_rows = list()\n",
    "# for doi, counter in doi_to_downloads.items():\n",
    "#     for year_month, count in counter.items():\n",
    "#         count_rows.append((doi, year_month, count))\n",
    "# download_df = pandas.DataFrame(count_rows, columns=['doi', 'year_month', 'scihub_downloads'])\n",
    "# download_df.sort_values(['doi', 'year_month'], inplace=True)\n",
    "# download_df.head()"
   ]
  },
  {
   "cell_type": "code",
   "execution_count": 10,
   "metadata": {},
   "outputs": [
    {
     "data": {
      "text/html": [
       "<div>\n",
       "<style scoped>\n",
       "    .dataframe tbody tr th:only-of-type {\n",
       "        vertical-align: middle;\n",
       "    }\n",
       "\n",
       "    .dataframe tbody tr th {\n",
       "        vertical-align: top;\n",
       "    }\n",
       "\n",
       "    .dataframe thead th {\n",
       "        text-align: right;\n",
       "    }\n",
       "</style>\n",
       "<table border=\"1\" class=\"dataframe\">\n",
       "  <thead>\n",
       "    <tr style=\"text-align: right;\">\n",
       "      <th></th>\n",
       "      <th>2015-09</th>\n",
       "      <th>2015-10</th>\n",
       "      <th>2015-11</th>\n",
       "      <th>2015-12</th>\n",
       "      <th>2016-01</th>\n",
       "      <th>2016-02</th>\n",
       "      <th>2017-01</th>\n",
       "      <th>2017-02</th>\n",
       "      <th>2017-03</th>\n",
       "      <th>2017-04</th>\n",
       "      <th>2017-05</th>\n",
       "      <th>2017-06</th>\n",
       "      <th>2017-07</th>\n",
       "      <th>2017-08</th>\n",
       "      <th>2017-09</th>\n",
       "      <th>2017-10</th>\n",
       "      <th>2017-11</th>\n",
       "      <th>2017-12</th>\n",
       "    </tr>\n",
       "    <tr>\n",
       "      <th>doi</th>\n",
       "      <th></th>\n",
       "      <th></th>\n",
       "      <th></th>\n",
       "      <th></th>\n",
       "      <th></th>\n",
       "      <th></th>\n",
       "      <th></th>\n",
       "      <th></th>\n",
       "      <th></th>\n",
       "      <th></th>\n",
       "      <th></th>\n",
       "      <th></th>\n",
       "      <th></th>\n",
       "      <th></th>\n",
       "      <th></th>\n",
       "      <th></th>\n",
       "      <th></th>\n",
       "      <th></th>\n",
       "    </tr>\n",
       "  </thead>\n",
       "  <tbody>\n",
       "    <tr>\n",
       "      <th>10.0000/aac.asm.org/aac/40/8/1914</th>\n",
       "      <td>0</td>\n",
       "      <td>0</td>\n",
       "      <td>0</td>\n",
       "      <td>0</td>\n",
       "      <td>0</td>\n",
       "      <td>1</td>\n",
       "      <td>0</td>\n",
       "      <td>0</td>\n",
       "      <td>0</td>\n",
       "      <td>0</td>\n",
       "      <td>0</td>\n",
       "      <td>0</td>\n",
       "      <td>0</td>\n",
       "      <td>0</td>\n",
       "      <td>0</td>\n",
       "      <td>0</td>\n",
       "      <td>0</td>\n",
       "      <td>0</td>\n",
       "    </tr>\n",
       "    <tr>\n",
       "      <th>10.0000/aac.asm.org/aac/42/1/53</th>\n",
       "      <td>0</td>\n",
       "      <td>0</td>\n",
       "      <td>0</td>\n",
       "      <td>0</td>\n",
       "      <td>0</td>\n",
       "      <td>1</td>\n",
       "      <td>0</td>\n",
       "      <td>0</td>\n",
       "      <td>0</td>\n",
       "      <td>0</td>\n",
       "      <td>0</td>\n",
       "      <td>0</td>\n",
       "      <td>0</td>\n",
       "      <td>0</td>\n",
       "      <td>0</td>\n",
       "      <td>0</td>\n",
       "      <td>0</td>\n",
       "      <td>0</td>\n",
       "    </tr>\n",
       "    <tr>\n",
       "      <th>10.0000/aac.asm.org/aac/43/6/1523</th>\n",
       "      <td>0</td>\n",
       "      <td>0</td>\n",
       "      <td>0</td>\n",
       "      <td>0</td>\n",
       "      <td>0</td>\n",
       "      <td>1</td>\n",
       "      <td>0</td>\n",
       "      <td>0</td>\n",
       "      <td>0</td>\n",
       "      <td>0</td>\n",
       "      <td>0</td>\n",
       "      <td>0</td>\n",
       "      <td>0</td>\n",
       "      <td>0</td>\n",
       "      <td>0</td>\n",
       "      <td>0</td>\n",
       "      <td>0</td>\n",
       "      <td>0</td>\n",
       "    </tr>\n",
       "  </tbody>\n",
       "</table>\n",
       "</div>"
      ],
      "text/plain": [
       "                                   2015-09  2015-10  2015-11  2015-12  \\\n",
       "doi                                                                     \n",
       "10.0000/aac.asm.org/aac/40/8/1914        0        0        0        0   \n",
       "10.0000/aac.asm.org/aac/42/1/53          0        0        0        0   \n",
       "10.0000/aac.asm.org/aac/43/6/1523        0        0        0        0   \n",
       "\n",
       "                                   2016-01  2016-02  2017-01  2017-02  \\\n",
       "doi                                                                     \n",
       "10.0000/aac.asm.org/aac/40/8/1914        0        1        0        0   \n",
       "10.0000/aac.asm.org/aac/42/1/53          0        1        0        0   \n",
       "10.0000/aac.asm.org/aac/43/6/1523        0        1        0        0   \n",
       "\n",
       "                                   2017-03  2017-04  2017-05  2017-06  \\\n",
       "doi                                                                     \n",
       "10.0000/aac.asm.org/aac/40/8/1914        0        0        0        0   \n",
       "10.0000/aac.asm.org/aac/42/1/53          0        0        0        0   \n",
       "10.0000/aac.asm.org/aac/43/6/1523        0        0        0        0   \n",
       "\n",
       "                                   2017-07  2017-08  2017-09  2017-10  \\\n",
       "doi                                                                     \n",
       "10.0000/aac.asm.org/aac/40/8/1914        0        0        0        0   \n",
       "10.0000/aac.asm.org/aac/42/1/53          0        0        0        0   \n",
       "10.0000/aac.asm.org/aac/43/6/1523        0        0        0        0   \n",
       "\n",
       "                                   2017-11  2017-12  \n",
       "doi                                                  \n",
       "10.0000/aac.asm.org/aac/40/8/1914        0        0  \n",
       "10.0000/aac.asm.org/aac/42/1/53          0        0  \n",
       "10.0000/aac.asm.org/aac/43/6/1523        0        0  "
      ]
     },
     "execution_count": 10,
     "metadata": {},
     "output_type": "execute_result"
    }
   ],
   "source": [
    "# Create a matrix-style dataframe (doi × year_month)\n",
    "count_rows = (\n",
    "    [counter[year_month] for year_month in keep_year_months]\n",
    "    for counter in doi_to_downloads.values()\n",
    ")\n",
    "download_df = pandas.DataFrame(\n",
    "    data=count_rows,\n",
    "    index=list(doi_to_downloads),\n",
    "    columns=keep_year_months,\n",
    ")\n",
    "download_df.index.name = 'doi'\n",
    "download_df.sort_index(inplace=True)\n",
    "download_df.head(3)"
   ]
  },
  {
   "cell_type": "code",
   "execution_count": 11,
   "metadata": {},
   "outputs": [
    {
     "data": {
      "text/plain": [
       "2015-09     4,904,314\n",
       "2015-10     6,072,144\n",
       "2015-11     1,849,380\n",
       "2015-12     3,879,506\n",
       "2016-01     4,901,508\n",
       "2016-02     6,213,053\n",
       "2017-01    12,015,777\n",
       "2017-02    12,944,710\n",
       "2017-03    16,994,058\n",
       "2017-04    11,681,866\n",
       "2017-05    17,919,468\n",
       "2017-06    17,602,135\n",
       "2017-07    23,145,854\n",
       "2017-08    22,021,949\n",
       "2017-09    19,625,247\n",
       "2017-10     5,321,363\n",
       "2017-11    21,021,397\n",
       "2017-12    14,205,903\n",
       "dtype: object"
      ]
     },
     "execution_count": 11,
     "metadata": {},
     "output_type": "execute_result"
    }
   ],
   "source": [
    "# Downloads per month\n",
    "download_df.sum(axis='rows').apply('{:,}'.format)"
   ]
  },
  {
   "cell_type": "code",
   "execution_count": 12,
   "metadata": {},
   "outputs": [],
   "source": [
    "# Write downloads to disk\n",
    "download_df.to_csv('data/03.scihub-traffic.tsv.xz', sep='\\t')"
   ]
  }
 ],
 "metadata": {
  "kernelspec": {
   "display_name": "Python [conda env:greenblack]",
   "language": "python",
   "name": "conda-env-greenblack-py"
  },
  "language_info": {
   "codemirror_mode": {
    "name": "ipython",
    "version": 3
   },
   "file_extension": ".py",
   "mimetype": "text/x-python",
   "name": "python",
   "nbconvert_exporter": "python",
   "pygments_lexer": "ipython3",
   "version": "3.7.1"
  }
 },
 "nbformat": 4,
 "nbformat_minor": 2
}
