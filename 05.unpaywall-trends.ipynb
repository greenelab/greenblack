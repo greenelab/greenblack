{
 "cells": [
  {
   "cell_type": "markdown",
   "metadata": {},
   "source": [
    "## Analyze access color trends using Unpaywall data"
   ]
  },
  {
   "cell_type": "code",
   "execution_count": 1,
   "metadata": {},
   "outputs": [],
   "source": [
    "import collections\n",
    "\n",
    "import pandas\n",
    "import plotnine\n",
    "import numpy\n",
    "\n",
    "import utils"
   ]
  },
  {
   "cell_type": "code",
   "execution_count": 2,
   "metadata": {},
   "outputs": [
    {
     "data": {
      "text/html": [
       "<div>\n",
       "<style scoped>\n",
       "    .dataframe tbody tr th:only-of-type {\n",
       "        vertical-align: middle;\n",
       "    }\n",
       "\n",
       "    .dataframe tbody tr th {\n",
       "        vertical-align: top;\n",
       "    }\n",
       "\n",
       "    .dataframe thead th {\n",
       "        text-align: right;\n",
       "    }\n",
       "</style>\n",
       "<table border=\"1\" class=\"dataframe\">\n",
       "  <thead>\n",
       "    <tr style=\"text-align: right;\">\n",
       "      <th></th>\n",
       "      <th>doi</th>\n",
       "      <th>crossref_type</th>\n",
       "      <th>journal_date</th>\n",
       "      <th>unpaywall_access</th>\n",
       "      <th>journal_access</th>\n",
       "      <th>journal_access_evidence</th>\n",
       "      <th>journal_access_license</th>\n",
       "      <th>journal_fully_oa</th>\n",
       "      <th>journal_year</th>\n",
       "    </tr>\n",
       "  </thead>\n",
       "  <tbody>\n",
       "    <tr>\n",
       "      <th>0</th>\n",
       "      <td>10.1080/21645515.2017.1330236</td>\n",
       "      <td>journal-article</td>\n",
       "      <td>2017-06-12</td>\n",
       "      <td>1</td>\n",
       "      <td>0</td>\n",
       "      <td>NaN</td>\n",
       "      <td>NaN</td>\n",
       "      <td>0</td>\n",
       "      <td>2017</td>\n",
       "    </tr>\n",
       "    <tr>\n",
       "      <th>3</th>\n",
       "      <td>10.1088/0004-6256/135/4/1201</td>\n",
       "      <td>journal-article</td>\n",
       "      <td>2008-03-04</td>\n",
       "      <td>1</td>\n",
       "      <td>1</td>\n",
       "      <td>open (via free pdf)</td>\n",
       "      <td>NaN</td>\n",
       "      <td>0</td>\n",
       "      <td>2008</td>\n",
       "    </tr>\n",
       "  </tbody>\n",
       "</table>\n",
       "</div>"
      ],
      "text/plain": [
       "                             doi    crossref_type journal_date  \\\n",
       "0  10.1080/21645515.2017.1330236  journal-article   2017-06-12   \n",
       "3   10.1088/0004-6256/135/4/1201  journal-article   2008-03-04   \n",
       "\n",
       "   unpaywall_access  journal_access journal_access_evidence  \\\n",
       "0                 1               0                     NaN   \n",
       "3                 1               1     open (via free pdf)   \n",
       "\n",
       "  journal_access_license  journal_fully_oa  journal_year  \n",
       "0                    NaN                 0          2017  \n",
       "3                    NaN                 0          2008  "
      ]
     },
     "execution_count": 2,
     "metadata": {},
     "output_type": "execute_result"
    }
   ],
   "source": [
    "access_df = pandas.read_csv(\n",
    "    'data/02.unpaywall-access.tsv.xz',\n",
    "    sep='\\t',\n",
    "    #nrows=100_000,\n",
    ")\n",
    "access_df = access_df.query(\"crossref_type in @utils.get_crossref_types()\")\n",
    "access_df['journal_year'] = access_df.journal_date.str.slice(stop=4).astype('float').astype('Int64')\n",
    "access_df.head(2)"
   ]
  },
  {
   "cell_type": "code",
   "execution_count": 3,
   "metadata": {},
   "outputs": [
    {
     "data": {
      "text/html": [
       "<div>\n",
       "<style scoped>\n",
       "    .dataframe tbody tr th:only-of-type {\n",
       "        vertical-align: middle;\n",
       "    }\n",
       "\n",
       "    .dataframe tbody tr th {\n",
       "        vertical-align: top;\n",
       "    }\n",
       "\n",
       "    .dataframe thead th {\n",
       "        text-align: right;\n",
       "    }\n",
       "</style>\n",
       "<table border=\"1\" class=\"dataframe\">\n",
       "  <thead>\n",
       "    <tr style=\"text-align: right;\">\n",
       "      <th></th>\n",
       "      <th>doi</th>\n",
       "      <th>crossref_type</th>\n",
       "      <th>journal_date</th>\n",
       "      <th>unpaywall_access</th>\n",
       "      <th>journal_access</th>\n",
       "      <th>journal_access_evidence</th>\n",
       "      <th>journal_access_license</th>\n",
       "      <th>journal_fully_oa</th>\n",
       "      <th>journal_year</th>\n",
       "      <th>journal_access_category</th>\n",
       "    </tr>\n",
       "  </thead>\n",
       "  <tbody>\n",
       "    <tr>\n",
       "      <th>0</th>\n",
       "      <td>10.1080/21645515.2017.1330236</td>\n",
       "      <td>journal-article</td>\n",
       "      <td>2017-06-12</td>\n",
       "      <td>1</td>\n",
       "      <td>0</td>\n",
       "      <td>NaN</td>\n",
       "      <td>NaN</td>\n",
       "      <td>0</td>\n",
       "      <td>2017</td>\n",
       "      <td>green</td>\n",
       "    </tr>\n",
       "    <tr>\n",
       "      <th>3</th>\n",
       "      <td>10.1088/0004-6256/135/4/1201</td>\n",
       "      <td>journal-article</td>\n",
       "      <td>2008-03-04</td>\n",
       "      <td>1</td>\n",
       "      <td>1</td>\n",
       "      <td>open (via free pdf)</td>\n",
       "      <td>NaN</td>\n",
       "      <td>0</td>\n",
       "      <td>2008</td>\n",
       "      <td>hybrid/bronze</td>\n",
       "    </tr>\n",
       "    <tr>\n",
       "      <th>4</th>\n",
       "      <td>10.1088/0022-3727/48/43/435001</td>\n",
       "      <td>journal-article</td>\n",
       "      <td>2015-09-29</td>\n",
       "      <td>0</td>\n",
       "      <td>0</td>\n",
       "      <td>NaN</td>\n",
       "      <td>NaN</td>\n",
       "      <td>0</td>\n",
       "      <td>2015</td>\n",
       "      <td>closed</td>\n",
       "    </tr>\n",
       "    <tr>\n",
       "      <th>5</th>\n",
       "      <td>10.2478/v10172-012-0058-8</td>\n",
       "      <td>journal-article</td>\n",
       "      <td>2012-01-01</td>\n",
       "      <td>1</td>\n",
       "      <td>1</td>\n",
       "      <td>open (via free pdf)</td>\n",
       "      <td>NaN</td>\n",
       "      <td>0</td>\n",
       "      <td>2012</td>\n",
       "      <td>hybrid/bronze</td>\n",
       "    </tr>\n",
       "    <tr>\n",
       "      <th>6</th>\n",
       "      <td>10.2307/40203576</td>\n",
       "      <td>journal-article</td>\n",
       "      <td>2001-01-01</td>\n",
       "      <td>0</td>\n",
       "      <td>0</td>\n",
       "      <td>NaN</td>\n",
       "      <td>NaN</td>\n",
       "      <td>0</td>\n",
       "      <td>2001</td>\n",
       "      <td>closed</td>\n",
       "    </tr>\n",
       "  </tbody>\n",
       "</table>\n",
       "</div>"
      ],
      "text/plain": [
       "                              doi    crossref_type journal_date  \\\n",
       "0   10.1080/21645515.2017.1330236  journal-article   2017-06-12   \n",
       "3    10.1088/0004-6256/135/4/1201  journal-article   2008-03-04   \n",
       "4  10.1088/0022-3727/48/43/435001  journal-article   2015-09-29   \n",
       "5       10.2478/v10172-012-0058-8  journal-article   2012-01-01   \n",
       "6                10.2307/40203576  journal-article   2001-01-01   \n",
       "\n",
       "   unpaywall_access  journal_access journal_access_evidence  \\\n",
       "0                 1               0                     NaN   \n",
       "3                 1               1     open (via free pdf)   \n",
       "4                 0               0                     NaN   \n",
       "5                 1               1     open (via free pdf)   \n",
       "6                 0               0                     NaN   \n",
       "\n",
       "  journal_access_license  journal_fully_oa  journal_year  \\\n",
       "0                    NaN                 0          2017   \n",
       "3                    NaN                 0          2008   \n",
       "4                    NaN                 0          2015   \n",
       "5                    NaN                 0          2012   \n",
       "6                    NaN                 0          2001   \n",
       "\n",
       "  journal_access_category  \n",
       "0                   green  \n",
       "3           hybrid/bronze  \n",
       "4                  closed  \n",
       "5           hybrid/bronze  \n",
       "6                  closed  "
      ]
     },
     "execution_count": 3,
     "metadata": {},
     "output_type": "execute_result"
    }
   ],
   "source": [
    "access_df['journal_access_category'] = 'closed'\n",
    "access_df.loc[access_df.unpaywall_access.astype(bool), 'journal_access_category'] = 'green'\n",
    "access_df.loc[access_df.journal_access.astype(bool), 'journal_access_category'] = 'hybrid/bronze'\n",
    "access_df.loc[access_df.journal_fully_oa.astype(bool), 'journal_access_category'] = 'gold'\n",
    "access_df.head()"
   ]
  },
  {
   "cell_type": "code",
   "execution_count": 4,
   "metadata": {},
   "outputs": [
    {
     "data": {
      "text/plain": [
       "closed           70607556\n",
       "hybrid/bronze    14143545\n",
       "green             4156883\n",
       "gold              3325136\n",
       "Name: journal_access_category, dtype: int64"
      ]
     },
     "execution_count": 4,
     "metadata": {},
     "output_type": "execute_result"
    }
   ],
   "source": [
    "access_df.journal_access_category.value_counts()"
   ]
  },
  {
   "cell_type": "code",
   "execution_count": 5,
   "metadata": {},
   "outputs": [
    {
     "data": {
      "text/plain": [
       "journal-article        73453254\n",
       "book-chapter           11733039\n",
       "proceedings-article     5406981\n",
       "reference-entry          789059\n",
       "report                   582956\n",
       "standard                 256910\n",
       "book-part                  6420\n",
       "book-section               4501\n",
       "Name: crossref_type, dtype: int64"
      ]
     },
     "execution_count": 5,
     "metadata": {},
     "output_type": "execute_result"
    }
   ],
   "source": [
    "access_df.crossref_type.value_counts()"
   ]
  },
  {
   "cell_type": "code",
   "execution_count": 6,
   "metadata": {},
   "outputs": [
    {
     "data": {
      "text/html": [
       "<div>\n",
       "<style scoped>\n",
       "    .dataframe tbody tr th:only-of-type {\n",
       "        vertical-align: middle;\n",
       "    }\n",
       "\n",
       "    .dataframe tbody tr th {\n",
       "        vertical-align: top;\n",
       "    }\n",
       "\n",
       "    .dataframe thead th {\n",
       "        text-align: right;\n",
       "    }\n",
       "</style>\n",
       "<table border=\"1\" class=\"dataframe\">\n",
       "  <thead>\n",
       "    <tr style=\"text-align: right;\">\n",
       "      <th></th>\n",
       "      <th>journal_year</th>\n",
       "      <th>gold</th>\n",
       "      <th>hybrid/bronze</th>\n",
       "      <th>green</th>\n",
       "      <th>closed</th>\n",
       "      <th>total</th>\n",
       "    </tr>\n",
       "  </thead>\n",
       "  <tbody>\n",
       "    <tr>\n",
       "      <th>454</th>\n",
       "      <td>2009</td>\n",
       "      <td>107390</td>\n",
       "      <td>436328</td>\n",
       "      <td>195444</td>\n",
       "      <td>2086751</td>\n",
       "      <td>2825913</td>\n",
       "    </tr>\n",
       "    <tr>\n",
       "      <th>455</th>\n",
       "      <td>2010</td>\n",
       "      <td>145073</td>\n",
       "      <td>479806</td>\n",
       "      <td>200990</td>\n",
       "      <td>2304330</td>\n",
       "      <td>3130199</td>\n",
       "    </tr>\n",
       "    <tr>\n",
       "      <th>456</th>\n",
       "      <td>2011</td>\n",
       "      <td>176390</td>\n",
       "      <td>544841</td>\n",
       "      <td>205607</td>\n",
       "      <td>2275931</td>\n",
       "      <td>3202769</td>\n",
       "    </tr>\n",
       "    <tr>\n",
       "      <th>457</th>\n",
       "      <td>2012</td>\n",
       "      <td>224134</td>\n",
       "      <td>608263</td>\n",
       "      <td>214910</td>\n",
       "      <td>2259071</td>\n",
       "      <td>3306378</td>\n",
       "    </tr>\n",
       "    <tr>\n",
       "      <th>458</th>\n",
       "      <td>2013</td>\n",
       "      <td>278671</td>\n",
       "      <td>662716</td>\n",
       "      <td>231482</td>\n",
       "      <td>2432098</td>\n",
       "      <td>3604967</td>\n",
       "    </tr>\n",
       "    <tr>\n",
       "      <th>459</th>\n",
       "      <td>2014</td>\n",
       "      <td>334555</td>\n",
       "      <td>713612</td>\n",
       "      <td>237586</td>\n",
       "      <td>2479865</td>\n",
       "      <td>3765618</td>\n",
       "    </tr>\n",
       "    <tr>\n",
       "      <th>460</th>\n",
       "      <td>2015</td>\n",
       "      <td>377263</td>\n",
       "      <td>824789</td>\n",
       "      <td>236819</td>\n",
       "      <td>2441398</td>\n",
       "      <td>3880269</td>\n",
       "    </tr>\n",
       "    <tr>\n",
       "      <th>461</th>\n",
       "      <td>2016</td>\n",
       "      <td>411700</td>\n",
       "      <td>912739</td>\n",
       "      <td>257340</td>\n",
       "      <td>2556727</td>\n",
       "      <td>4138506</td>\n",
       "    </tr>\n",
       "    <tr>\n",
       "      <th>462</th>\n",
       "      <td>2017</td>\n",
       "      <td>441308</td>\n",
       "      <td>939334</td>\n",
       "      <td>232122</td>\n",
       "      <td>2841960</td>\n",
       "      <td>4454724</td>\n",
       "    </tr>\n",
       "    <tr>\n",
       "      <th>463</th>\n",
       "      <td>2018</td>\n",
       "      <td>320334</td>\n",
       "      <td>539472</td>\n",
       "      <td>89009</td>\n",
       "      <td>2027480</td>\n",
       "      <td>2976295</td>\n",
       "    </tr>\n",
       "  </tbody>\n",
       "</table>\n",
       "</div>"
      ],
      "text/plain": [
       "     journal_year    gold  hybrid/bronze   green   closed    total\n",
       "454          2009  107390         436328  195444  2086751  2825913\n",
       "455          2010  145073         479806  200990  2304330  3130199\n",
       "456          2011  176390         544841  205607  2275931  3202769\n",
       "457          2012  224134         608263  214910  2259071  3306378\n",
       "458          2013  278671         662716  231482  2432098  3604967\n",
       "459          2014  334555         713612  237586  2479865  3765618\n",
       "460          2015  377263         824789  236819  2441398  3880269\n",
       "461          2016  411700         912739  257340  2556727  4138506\n",
       "462          2017  441308         939334  232122  2841960  4454724\n",
       "463          2018  320334         539472   89009  2027480  2976295"
      ]
     },
     "execution_count": 6,
     "metadata": {},
     "output_type": "execute_result"
    }
   ],
   "source": [
    "def summarize(df):\n",
    "    row = collections.Counter()\n",
    "    counts = collections.Counter(df.journal_access_category)\n",
    "    for category in utils.access_categories_colors:\n",
    "        row[category] = counts[category]\n",
    "    row['total'] = len(df)\n",
    "    return pandas.Series(row)\n",
    "\n",
    "year_df = access_df.groupby('journal_year').apply(summarize).reset_index()\n",
    "year_df.journal_year = year_df.journal_year.astype(int)\n",
    "year_df = year_df.query(\"1950 <= journal_year <= 2018\")\n",
    "year_df.tail(10)"
   ]
  },
  {
   "cell_type": "code",
   "execution_count": 7,
   "metadata": {},
   "outputs": [],
   "source": [
    "year_df.to_csv('data/05.unpaywall-colors-by-year.tsv', sep='\\t', index=False)"
   ]
  },
  {
   "cell_type": "code",
   "execution_count": 9,
   "metadata": {},
   "outputs": [
    {
     "data": {
      "text/html": [
       "<div>\n",
       "<style scoped>\n",
       "    .dataframe tbody tr th:only-of-type {\n",
       "        vertical-align: middle;\n",
       "    }\n",
       "\n",
       "    .dataframe tbody tr th {\n",
       "        vertical-align: top;\n",
       "    }\n",
       "\n",
       "    .dataframe thead th {\n",
       "        text-align: right;\n",
       "    }\n",
       "</style>\n",
       "<table border=\"1\" class=\"dataframe\">\n",
       "  <thead>\n",
       "    <tr style=\"text-align: right;\">\n",
       "      <th></th>\n",
       "      <th>journal_year</th>\n",
       "      <th>total</th>\n",
       "      <th>access_category</th>\n",
       "      <th>count</th>\n",
       "    </tr>\n",
       "  </thead>\n",
       "  <tbody>\n",
       "    <tr>\n",
       "      <th>0</th>\n",
       "      <td>1950</td>\n",
       "      <td>133702</td>\n",
       "      <td>gold</td>\n",
       "      <td>454</td>\n",
       "    </tr>\n",
       "    <tr>\n",
       "      <th>1</th>\n",
       "      <td>1951</td>\n",
       "      <td>143813</td>\n",
       "      <td>gold</td>\n",
       "      <td>481</td>\n",
       "    </tr>\n",
       "  </tbody>\n",
       "</table>\n",
       "</div>"
      ],
      "text/plain": [
       "   journal_year   total access_category  count\n",
       "0          1950  133702            gold    454\n",
       "1          1951  143813            gold    481"
      ]
     },
     "execution_count": 9,
     "metadata": {},
     "output_type": "execute_result"
    }
   ],
   "source": [
    "year_melt_df = year_df.melt(id_vars=['journal_year', 'total'], var_name='access_category', value_name='count')\n",
    "year_melt_df.access_category = pandas.Categorical(\n",
    "    year_melt_df.access_category,\n",
    "    categories=reversed(list(utils.access_categories_colors))\n",
    ")\n",
    "year_melt_df.head(2)"
   ]
  },
  {
   "cell_type": "code",
   "execution_count": 10,
   "metadata": {},
   "outputs": [
    {
     "data": {
      "image/png": "[encoded data removed]",
      "text/plain": [
       "<Figure size 640x480 with 1 Axes>"
      ]
     },
     "metadata": {},
     "output_type": "display_data"
    },
    {
     "data": {
      "text/plain": [
       "<ggplot: (8777193441337)>"
      ]
     },
     "execution_count": 10,
     "metadata": {},
     "output_type": "execute_result"
    }
   ],
   "source": [
    "gg_counts = (\n",
    "    plotnine.ggplot(mapping=plotnine.aes(x='journal_year', y='count', fill='access_category'), data=year_melt_df) +\n",
    "    plotnine.geom_bar(stat='identity', size=0, color=None, width=1) +\n",
    "    plotnine.scale_x_continuous(breaks=numpy.arange(1960, 2011, 10), expand=(0, 0), name='') +\n",
    "    plotnine.scale_y_continuous(labels=lambda array: [f'{x:,.0f}' for x in array], name='', expand=(0,0)) +\n",
    "    plotnine.scale_fill_manual(values=utils.access_categories_colors) +\n",
    "    plotnine.theme_bw() +\n",
    "    plotnine.theme(legend_position=(0.3, 0.7), legend_title=plotnine.element_blank())\n",
    ")\n",
    "gg_counts"
   ]
  },
  {
   "cell_type": "code",
   "execution_count": 12,
   "metadata": {},
   "outputs": [
    {
     "data": {
      "image/png": "[encoded data removed]",
      "text/plain": [
       "<Figure size 640x480 with 1 Axes>"
      ]
     },
     "metadata": {},
     "output_type": "display_data"
    },
    {
     "data": {
      "text/plain": [
       "<ggplot: (-9223363259837533871)>"
      ]
     },
     "execution_count": 12,
     "metadata": {},
     "output_type": "execute_result"
    }
   ],
   "source": [
    "gg_percents = (\n",
    "    plotnine.ggplot(mapping=plotnine.aes(x='journal_year', y='count', fill='access_category'), data=year_melt_df) +\n",
    "    plotnine.geom_bar(stat='identity', position='fill', size=0, color=None, width=1) +\n",
    "    plotnine.scale_fill_manual(values=utils.access_categories_colors) +\n",
    "    plotnine.scale_x_continuous(breaks=numpy.arange(1960, 2011, 10), expand=(0, 0), name='') +\n",
    "    plotnine.scale_y_continuous(breaks=numpy.arange(0.1, 1, 0.2), labels=lambda array: [f'{x:.0%}' for x in array], expand=(0, 0), name='') +\n",
    "    plotnine.theme_bw() +\n",
    "    plotnine.theme(legend_position=(0.3, 0.7), legend_title=plotnine.element_blank())\n",
    ")\n",
    "gg_percents"
   ]
  }
 ],
 "metadata": {
  "kernelspec": {
   "display_name": "Python [conda env:greenblack]",
   "language": "python",
   "name": "conda-env-greenblack-py"
  },
  "language_info": {
   "codemirror_mode": {
    "name": "ipython",
    "version": 3
   },
   "file_extension": ".py",
   "mimetype": "text/x-python",
   "name": "python",
   "nbconvert_exporter": "python",
   "pygments_lexer": "ipython3",
   "version": "3.7.1"
  }
 },
 "nbformat": 4,
 "nbformat_minor": 2
}
